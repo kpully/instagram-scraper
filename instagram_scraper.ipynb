{
 "cells": [
  {
   "cell_type": "code",
   "execution_count": 97,
   "metadata": {},
   "outputs": [
    {
     "data": {
      "text/html": [
       "<style>.container { width:100% !important; }</style>"
      ],
      "text/plain": [
       "<IPython.core.display.HTML object>"
      ]
     },
     "metadata": {},
     "output_type": "display_data"
    }
   ],
   "source": [
    "import pandas as pd\n",
    "from IPython.core.display import display, HTML\n",
    "from selenium import webdriver\n",
    "from selenium.webdriver.common.keys import Keys\n",
    "import time\n",
    "import os\n",
    "from selenium.webdriver.common.action_chains import ActionChains\n",
    "display(HTML(\"<style>.container { width:100% !important; }</style>\"))"
   ]
  },
  {
   "cell_type": "code",
   "execution_count": 82,
   "metadata": {},
   "outputs": [],
   "source": [
    "chromedriver = \"/Users/katherinepully/chromedriver\"\n",
    "os.environ[\"webdriver.chrome.driver\"] = chromedriver\n",
    "driver = webdriver.Chrome(chromedriver)\n",
    "actions = ActionChains(driver)"
   ]
  },
  {
   "cell_type": "code",
   "execution_count": 8,
   "metadata": {},
   "outputs": [],
   "source": [
    "base_url = \"https://www.instagram.com/\""
   ]
  },
  {
   "cell_type": "code",
   "execution_count": 83,
   "metadata": {},
   "outputs": [],
   "source": [
    "test_url=\"https://www.instagram.com/reesewitherspoon\""
   ]
  },
  {
   "cell_type": "code",
   "execution_count": 106,
   "metadata": {},
   "outputs": [],
   "source": [
    "handles = pd.read_csv(\"celebrity_handles.csv\")\n",
    "handles=handles[[\"celebrity_handles\"]]"
   ]
  },
  {
   "cell_type": "code",
   "execution_count": 108,
   "metadata": {},
   "outputs": [],
   "source": [
    "handles.to_csv(\"celebrity_handles.csv\",index=False)"
   ]
  },
  {
   "cell_type": "code",
   "execution_count": 98,
   "metadata": {},
   "outputs": [],
   "source": [
    "driver.get(test_url)\n",
    "images = driver.find_elements_by_class_name(\"_bz0w\")\n",
    "images_count = len(images)"
   ]
  },
  {
   "cell_type": "code",
   "execution_count": 85,
   "metadata": {},
   "outputs": [
    {
     "data": {
      "text/plain": [
       "12"
      ]
     },
     "execution_count": 85,
     "metadata": {},
     "output_type": "execute_result"
    }
   ],
   "source": [
    "images_count"
   ]
  },
  {
   "cell_type": "code",
   "execution_count": 99,
   "metadata": {},
   "outputs": [],
   "source": [
    "new_link = images[0].find_element_by_tag_name(\"a\").get_attribute(\"href\")\n",
    "driver.get(new_link) #go to first picture"
   ]
  },
  {
   "cell_type": "code",
   "execution_count": 100,
   "metadata": {},
   "outputs": [
    {
     "name": "stdout",
     "output_type": "stream",
     "text": [
      "9\n"
     ]
    }
   ],
   "source": [
    "click_count=0\n",
    "while (True):\n",
    "    try:\n",
    "        load_more = driver.find_element_by_class_name(\"glyphsSpriteCircle_add__outline__24__grey_9.u-__7\")\n",
    "        actions.move_to_element(load_more).perform()\n",
    "        load_more.click()\n",
    "        click_count+=1\n",
    "        time.sleep(5)\n",
    "    except:\n",
    "        break\n",
    "        \n",
    "print(click_count)"
   ]
  },
  {
   "cell_type": "code",
   "execution_count": 102,
   "metadata": {},
   "outputs": [
    {
     "name": "stdout",
     "output_type": "stream",
     "text": [
      "reesewitherspoon: Verified\n",
      "kingayaladezoble: @reesewitherspoon I love puggly wugglies. What's up with me seeing you and my daughter @avaphillippe ? The last time I saw her she gave me a dog. Then the cops took my dog while I was in the shower at 24 hour fitness in North Hollywood. Hope to see you soon love you and I miss you. King\n",
      "bma_pryor: 💖💖💖💖\n",
      "shavonnelai: @christiansghan what’s maelie doing there? 😆\n",
      "cbonomo97: @mbonomo13\n",
      "jannely_gomez: Too cute!!\n",
      "eukauarodriguez: 😍😍\n",
      "branchiesdboy: Awww I wish I could have one\n",
      "richardjackonagy: 😍\n",
      "edbyellen: Verified\n",
      "rampoudel500: Lovely pets always like it\n",
      "stylishtravlr: ❤❤❤\n",
      "50plusfoodnfitness: Names please?\n",
      "californiadia: 🐾☺️♥️💙\n",
      "photosupercenter: ❤️🐶\n",
      "sixgungun: 😂😊🔥\n",
      "anammoya: 💗🐩🐕🐶\n",
      "celebridadefanpage: How cute 😍 😍\n",
      "allicatbailey: So cute are they besties or only when napping!!\n",
      "hotdog812: Working in a tan. Hahahhaa🤣 beautiful pooches 💞\n",
      "jpellcyd: Awww 🥰 we have a chocolate lab as well!! Just beautiful 💜💜\n",
      "dohajoseph: 💜💜\n",
      "aurasmall19: 😍🎆✨so beautiful\n",
      "timsjagg_: Pure energy\n",
      "luan_da_silva_costa: Two dogs taking a beautiful nap😍😍😍😍\n",
      "nikstorm: Honestly my mood this morning\n",
      "diniyal28: Wow😶\n",
      "nnorman3: Beautiful babies💗❤️\n",
      "great_art13: Lel\n",
      "sc.chapman: @brookefranklin05  looks like your pups!\n",
      "tinaweyll: Love You Reese!🌹🇧🇷\n",
      "everydayqueenslay0255: My mood 😂😂\n",
      "oksana.pereverzeva66: 😍😍❤️❤️\n",
      "barbaras28: Cute\n",
      "lindaburns23262: Adorable 😚\n",
      "srodriguezpicon: awww they are so cute\n",
      "analiapatriciaocampo: Jajaja\n",
      "odom2468: Aw so sweet ❤️\n",
      "nic_oley_b: Awww I love that they’re touching!\n",
      "kirst_sweeney: 😍\n",
      "sammy.made.things: Relatable af❤️\n",
      "arefememarian: 😍😍\n",
      "darbyecamp: Verified\n",
      "ajay_desai11: 😍😍\n",
      "igram.fans.world: Excellent  Photo! We can easily help you to get  igramfans ❤\n",
      "frenchiequilla: I’m all about the 💤💤\n",
      "tresmatosfamilia: Mood\n",
      "red2rew: A frenchie and a lab!! 💕 You have misfits too! I have a mastiff, boston, & a frenchie. 🤣 #misfitdogs\n",
      "evelyne_kosch: 😍😍\n",
      "gruporobertbajbouj: Nice dog,,\n",
      "faeze7223: 😍\n",
      "champagnepineapple: Hey Everyone @benchmarkapparels is currently having a 50% OFF Sale Store Wide + FREE SHIPPING worldwide!! Hurry on over and check us out, we think you’ll love it!! Get an additional 10% off when you use the code ‘BNCHMRK’ before midnight tonight !!\n",
      "mammamiaobseed: 😂😂\n",
      "zeinamohamedsa: 😂😂\n",
      "lumilous: @chris.42q 😊\n",
      "lenou55: @benz_agno on dirait popoon 😍\n",
      "ziptduda: How old is your chocolate? Mine just turned 1in May.\n",
      "moanacases: Lol perfect photo\n",
      "leon.joka: @reesewitherspoon text me\n",
      "kenzie_joach: frenchie’s are the best, I have two crazy ones😂 @reesewitherspoon\n",
      "jubepoetry: Haha, cute.\n",
      "nicolejpowell: @_dan.edwards the big one!\n",
      "yasharsoheili: الاهی\n",
      "marcolutriani: ❤️\n",
      "claudia_p_15: Friends 😍✨✨\n",
      "hog_legg: Living the best life 💥👊💥\n",
      "bello_illustrate: KINDLY - MESSAGE - ME - TO - GET -- NICE - GRAPHICS - DESIGN --- CARTOON - PICTURE ----LOGO ----- COVER - ART AND - LOT - MORE - AT - GOOD - RATE🎨💯🎨💯🎨💯🎨💯🎨💯🎨💯🎨💯🎨💯🎨💯🎨💯\n",
      "karan.sharma2342: 🔥🔥\n",
      "karan.sharma2342: ❤️\n",
      "suzyflooze3.0: You have the cutest dogs - where is Lou?\n",
      "bear78clare: @alexispawlinginteriors\n",
      "daveffects: Haha just like me when i reach my bed after workout😆👌\n",
      "ttthuhienn: 😍😍😍😍😍😍😍\n",
      "loganx2: Hit snooze and get a tan.\n",
      "nati.rdu: 😍\n",
      "dadsidea2: So cute , taking a cat nap . Oops did I say that about dogs . Lol😂🙌\n",
      "marypagemason: @griffindaly Reese’s little schnoozles. I’m so emotional\n",
      "becksr28: @shielser87 😍\n",
      "ceriseenchef: 😍😍\n",
      "shutterbug_713: Hi @reesewitherspoon.  How are you?\n",
      "large_karen: Love your dogs, brown labs are the best! 🇨🇦\n",
      "ringobasu: 😍😍😍😍\n",
      "joenuben: Where's Lou?\n",
      "nasima_44: 🌞🌞🌞\n",
      "hakangunery: 🙌\n",
      "belclopes: Own\n",
      "cwizzie13: They are soo cute❤️❤️❤️\n",
      "remayosf: تفاعل معي حمبي اتفاعل معك 😙\n",
      "inspiremestudio: ❤️❤️❤️❤️❤️\n",
      "belclopes: 🐾🐾❤️\n",
      "niquelined: Sweet 💤\n",
      "maritzaguignan: Lindos\n",
      "kaleigh.tv: pepper is so cute 😻\n",
      "jason_marlowe47: I'll buy them?🤣🤣🤣\n",
      "kim_allan_1: ❤️❤️\n",
      "queensharon84: How cute is this!! Have a great weekend!! 😊👍🌟 @reesewitherspoon\n",
      "sapakoeya75: Don't look at my story, later you wil regret💃🔥 👙🔞\n",
      "parsa_kheradmandy: 😍😍\n",
      "maye1115: What do they think of Lou?\n",
      "mariaswift13th: 😍😍❤️❤️❤️❤️\n",
      "flowrider36: Down on the Count 🤣🤣\n",
      "karenmarquez1989: ❤️❤️❤️❤️\n",
      "sejlanax: sweeeeeeettt 😍😍\n",
      "moein_raza_khan: @ @moein_raza_khan 👌👌\n",
      "salua_mughrabi: Sou mega fã sua ❤️ !!!!\n",
      "manda_fun: They are the cutest!!!\n",
      "geral_cncwners7: ❤️❤️\n",
      "parsa_kheradmandy: Best👏👏❤️\n",
      "christinelb123: Are they liking your new puppy?\n",
      "tessa_parisienne: ❤️❤️❤️❤️❤️❤️❤️\n",
      "audyangelina1: Een echte man, altijd vriendelijk met haar, zelfs in bed, Cek mijn verhaal 💋😂\n",
      "tessa_parisienne: I love dogs 🐕 ❤️❤️❤️❤️\n",
      "rachmartino: Verified\n",
      "yardo1966: ❤️👌\n"
     ]
    }
   ],
   "source": [
    "comments = driver.find_elements_by_class_name(\"C4VMK\")\n",
    "for c in comments:\n",
    "    comment = c.find_element_by_css_selector('span').get_attribute(\"textContent\")\n",
    "    user = c.find_element_by_class_name(\"TlrDj\").get_attribute(\"textContent\")\n",
    "    print(\"\" + user + \": \" + str(comment))"
   ]
  },
  {
   "cell_type": "code",
   "execution_count": 103,
   "metadata": {},
   "outputs": [
    {
     "data": {
      "text/plain": [
       "114"
      ]
     },
     "execution_count": 103,
     "metadata": {},
     "output_type": "execute_result"
    }
   ],
   "source": []
  },
  {
   "cell_type": "code",
   "execution_count": 35,
   "metadata": {},
   "outputs": [],
   "source": []
  },
  {
   "cell_type": "code",
   "execution_count": 37,
   "metadata": {},
   "outputs": [
    {
     "name": "stdout",
     "output_type": "stream",
     "text": [
      "Verified\n",
      "@anniedougherty\n",
      "Those eyes 😍 welcome to the bulldog fam! They are THE. BEST.\n",
      "Awwww!! Congratulations on your new baby 😆 #Littedogsrock!!\n",
      "@conor.mcdougall\n",
      "@juulia_ht\n",
      "@_vrf\n",
      "@millionsofkates\n",
      "@sifalouuu ces yeux :O\n",
      "Lou is #thepicoftheday❤️\n",
      "Omg @juliavelde\n",
      "Aww\n",
      "@jeancortese\n",
      "So adorable 💕\n",
      "@kynavyeson look at her bully. 😍😍. @fridge_n_francois can have a new play friend 😬\n",
      "That is the most adorable bulldog I've ever seen. In ❤️❤️❤️\n",
      "OMG so cute!! 😍\n",
      "🙌puppy goals!\n",
      "Please tell me you adopted!\n",
      "Those eyes !!!!!\n",
      "@zach_j_willis\n",
      "#thoseeyes. Congratulations 👏🏼👏🏼\n",
      "@holliver tongs still cuter\n",
      "How cute i love the babies eyes\n",
      "😍\n",
      "@zawwwwa\n",
      "@mallory_caldwell22 look at those eyes!\n",
      "I might could handle this little pup!❣️\n",
      "OMG, cutenesses overload 🐶\n",
      "Aaaàa si cute\n",
      "😍\n",
      "So cute\n",
      "@kal_kei @firedup400 Check it out! Too cute!\n",
      "So beautiful - how sweet\n",
      "😧\n",
      "Doesn’t matter if the dog was a rescue or not. This dog would need a home just like any other dog would & fortunately now does.\n",
      "What a beauty...\n"
     ]
    }
   ],
   "source": []
  },
  {
   "cell_type": "code",
   "execution_count": 36,
   "metadata": {},
   "outputs": [],
   "source": []
  },
  {
   "cell_type": "code",
   "execution_count": 295,
   "metadata": {},
   "outputs": [],
   "source": [
    "driver.execute_script(\"window.scrollTo(0, 5)\")"
   ]
  },
  {
   "cell_type": "code",
   "execution_count": 238,
   "metadata": {},
   "outputs": [],
   "source": [
    "button = driver.find_element_by_class_name(\"glyphsSpriteCircle_add__outline__24__grey_9.u-__7\")"
   ]
  },
  {
   "cell_type": "code",
   "execution_count": 244,
   "metadata": {},
   "outputs": [],
   "source": [
    "button.click()"
   ]
  },
  {
   "cell_type": "code",
   "execution_count": 241,
   "metadata": {},
   "outputs": [
    {
     "data": {
      "text/plain": [
       "False"
      ]
     },
     "execution_count": 241,
     "metadata": {},
     "output_type": "execute_result"
    }
   ],
   "source": [
    "button.is_selected()"
   ]
  },
  {
   "cell_type": "code",
   "execution_count": 125,
   "metadata": {},
   "outputs": [
    {
     "ename": "ElementNotInteractableException",
     "evalue": "Message: element not interactable\n  (Session info: chrome=75.0.3770.100)\n",
     "output_type": "error",
     "traceback": [
      "\u001b[0;31m---------------------------------------------------------------------------\u001b[0m",
      "\u001b[0;31mElementNotInteractableException\u001b[0m           Traceback (most recent call last)",
      "\u001b[0;32m<ipython-input-125-8a235a7eb3f9>\u001b[0m in \u001b[0;36m<module>\u001b[0;34m\u001b[0m\n\u001b[0;32m----> 1\u001b[0;31m \u001b[0mcomments\u001b[0m\u001b[0;34m[\u001b[0m\u001b[0;36m1\u001b[0m\u001b[0;34m]\u001b[0m\u001b[0;34m.\u001b[0m\u001b[0mclick\u001b[0m\u001b[0;34m(\u001b[0m\u001b[0;34m)\u001b[0m\u001b[0;34m\u001b[0m\u001b[0;34m\u001b[0m\u001b[0m\n\u001b[0m",
      "\u001b[0;32m~/anaconda3/lib/python3.7/site-packages/selenium/webdriver/remote/webelement.py\u001b[0m in \u001b[0;36mclick\u001b[0;34m(self)\u001b[0m\n\u001b[1;32m     78\u001b[0m     \u001b[0;32mdef\u001b[0m \u001b[0mclick\u001b[0m\u001b[0;34m(\u001b[0m\u001b[0mself\u001b[0m\u001b[0;34m)\u001b[0m\u001b[0;34m:\u001b[0m\u001b[0;34m\u001b[0m\u001b[0;34m\u001b[0m\u001b[0m\n\u001b[1;32m     79\u001b[0m         \u001b[0;34m\"\"\"Clicks the element.\"\"\"\u001b[0m\u001b[0;34m\u001b[0m\u001b[0;34m\u001b[0m\u001b[0m\n\u001b[0;32m---> 80\u001b[0;31m         \u001b[0mself\u001b[0m\u001b[0;34m.\u001b[0m\u001b[0m_execute\u001b[0m\u001b[0;34m(\u001b[0m\u001b[0mCommand\u001b[0m\u001b[0;34m.\u001b[0m\u001b[0mCLICK_ELEMENT\u001b[0m\u001b[0;34m)\u001b[0m\u001b[0;34m\u001b[0m\u001b[0;34m\u001b[0m\u001b[0m\n\u001b[0m\u001b[1;32m     81\u001b[0m \u001b[0;34m\u001b[0m\u001b[0m\n\u001b[1;32m     82\u001b[0m     \u001b[0;32mdef\u001b[0m \u001b[0msubmit\u001b[0m\u001b[0;34m(\u001b[0m\u001b[0mself\u001b[0m\u001b[0;34m)\u001b[0m\u001b[0;34m:\u001b[0m\u001b[0;34m\u001b[0m\u001b[0;34m\u001b[0m\u001b[0m\n",
      "\u001b[0;32m~/anaconda3/lib/python3.7/site-packages/selenium/webdriver/remote/webelement.py\u001b[0m in \u001b[0;36m_execute\u001b[0;34m(self, command, params)\u001b[0m\n\u001b[1;32m    631\u001b[0m             \u001b[0mparams\u001b[0m \u001b[0;34m=\u001b[0m \u001b[0;34m{\u001b[0m\u001b[0;34m}\u001b[0m\u001b[0;34m\u001b[0m\u001b[0;34m\u001b[0m\u001b[0m\n\u001b[1;32m    632\u001b[0m         \u001b[0mparams\u001b[0m\u001b[0;34m[\u001b[0m\u001b[0;34m'id'\u001b[0m\u001b[0;34m]\u001b[0m \u001b[0;34m=\u001b[0m \u001b[0mself\u001b[0m\u001b[0;34m.\u001b[0m\u001b[0m_id\u001b[0m\u001b[0;34m\u001b[0m\u001b[0;34m\u001b[0m\u001b[0m\n\u001b[0;32m--> 633\u001b[0;31m         \u001b[0;32mreturn\u001b[0m \u001b[0mself\u001b[0m\u001b[0;34m.\u001b[0m\u001b[0m_parent\u001b[0m\u001b[0;34m.\u001b[0m\u001b[0mexecute\u001b[0m\u001b[0;34m(\u001b[0m\u001b[0mcommand\u001b[0m\u001b[0;34m,\u001b[0m \u001b[0mparams\u001b[0m\u001b[0;34m)\u001b[0m\u001b[0;34m\u001b[0m\u001b[0;34m\u001b[0m\u001b[0m\n\u001b[0m\u001b[1;32m    634\u001b[0m \u001b[0;34m\u001b[0m\u001b[0m\n\u001b[1;32m    635\u001b[0m     \u001b[0;32mdef\u001b[0m \u001b[0mfind_element\u001b[0m\u001b[0;34m(\u001b[0m\u001b[0mself\u001b[0m\u001b[0;34m,\u001b[0m \u001b[0mby\u001b[0m\u001b[0;34m=\u001b[0m\u001b[0mBy\u001b[0m\u001b[0;34m.\u001b[0m\u001b[0mID\u001b[0m\u001b[0;34m,\u001b[0m \u001b[0mvalue\u001b[0m\u001b[0;34m=\u001b[0m\u001b[0;32mNone\u001b[0m\u001b[0;34m)\u001b[0m\u001b[0;34m:\u001b[0m\u001b[0;34m\u001b[0m\u001b[0;34m\u001b[0m\u001b[0m\n",
      "\u001b[0;32m~/anaconda3/lib/python3.7/site-packages/selenium/webdriver/remote/webdriver.py\u001b[0m in \u001b[0;36mexecute\u001b[0;34m(self, driver_command, params)\u001b[0m\n\u001b[1;32m    319\u001b[0m         \u001b[0mresponse\u001b[0m \u001b[0;34m=\u001b[0m \u001b[0mself\u001b[0m\u001b[0;34m.\u001b[0m\u001b[0mcommand_executor\u001b[0m\u001b[0;34m.\u001b[0m\u001b[0mexecute\u001b[0m\u001b[0;34m(\u001b[0m\u001b[0mdriver_command\u001b[0m\u001b[0;34m,\u001b[0m \u001b[0mparams\u001b[0m\u001b[0;34m)\u001b[0m\u001b[0;34m\u001b[0m\u001b[0;34m\u001b[0m\u001b[0m\n\u001b[1;32m    320\u001b[0m         \u001b[0;32mif\u001b[0m \u001b[0mresponse\u001b[0m\u001b[0;34m:\u001b[0m\u001b[0;34m\u001b[0m\u001b[0;34m\u001b[0m\u001b[0m\n\u001b[0;32m--> 321\u001b[0;31m             \u001b[0mself\u001b[0m\u001b[0;34m.\u001b[0m\u001b[0merror_handler\u001b[0m\u001b[0;34m.\u001b[0m\u001b[0mcheck_response\u001b[0m\u001b[0;34m(\u001b[0m\u001b[0mresponse\u001b[0m\u001b[0;34m)\u001b[0m\u001b[0;34m\u001b[0m\u001b[0;34m\u001b[0m\u001b[0m\n\u001b[0m\u001b[1;32m    322\u001b[0m             response['value'] = self._unwrap_value(\n\u001b[1;32m    323\u001b[0m                 response.get('value', None))\n",
      "\u001b[0;32m~/anaconda3/lib/python3.7/site-packages/selenium/webdriver/remote/errorhandler.py\u001b[0m in \u001b[0;36mcheck_response\u001b[0;34m(self, response)\u001b[0m\n\u001b[1;32m    240\u001b[0m                 \u001b[0malert_text\u001b[0m \u001b[0;34m=\u001b[0m \u001b[0mvalue\u001b[0m\u001b[0;34m[\u001b[0m\u001b[0;34m'alert'\u001b[0m\u001b[0;34m]\u001b[0m\u001b[0;34m.\u001b[0m\u001b[0mget\u001b[0m\u001b[0;34m(\u001b[0m\u001b[0;34m'text'\u001b[0m\u001b[0;34m)\u001b[0m\u001b[0;34m\u001b[0m\u001b[0;34m\u001b[0m\u001b[0m\n\u001b[1;32m    241\u001b[0m             \u001b[0;32mraise\u001b[0m \u001b[0mexception_class\u001b[0m\u001b[0;34m(\u001b[0m\u001b[0mmessage\u001b[0m\u001b[0;34m,\u001b[0m \u001b[0mscreen\u001b[0m\u001b[0;34m,\u001b[0m \u001b[0mstacktrace\u001b[0m\u001b[0;34m,\u001b[0m \u001b[0malert_text\u001b[0m\u001b[0;34m)\u001b[0m\u001b[0;34m\u001b[0m\u001b[0;34m\u001b[0m\u001b[0m\n\u001b[0;32m--> 242\u001b[0;31m         \u001b[0;32mraise\u001b[0m \u001b[0mexception_class\u001b[0m\u001b[0;34m(\u001b[0m\u001b[0mmessage\u001b[0m\u001b[0;34m,\u001b[0m \u001b[0mscreen\u001b[0m\u001b[0;34m,\u001b[0m \u001b[0mstacktrace\u001b[0m\u001b[0;34m)\u001b[0m\u001b[0;34m\u001b[0m\u001b[0;34m\u001b[0m\u001b[0m\n\u001b[0m\u001b[1;32m    243\u001b[0m \u001b[0;34m\u001b[0m\u001b[0m\n\u001b[1;32m    244\u001b[0m     \u001b[0;32mdef\u001b[0m \u001b[0m_value_or_default\u001b[0m\u001b[0;34m(\u001b[0m\u001b[0mself\u001b[0m\u001b[0;34m,\u001b[0m \u001b[0mobj\u001b[0m\u001b[0;34m,\u001b[0m \u001b[0mkey\u001b[0m\u001b[0;34m,\u001b[0m \u001b[0mdefault\u001b[0m\u001b[0;34m)\u001b[0m\u001b[0;34m:\u001b[0m\u001b[0;34m\u001b[0m\u001b[0;34m\u001b[0m\u001b[0m\n",
      "\u001b[0;31mElementNotInteractableException\u001b[0m: Message: element not interactable\n  (Session info: chrome=75.0.3770.100)\n"
     ]
    }
   ],
   "source": [
    "comments[1].click()"
   ]
  },
  {
   "cell_type": "code",
   "execution_count": 65,
   "metadata": {},
   "outputs": [
    {
     "name": "stdout",
     "output_type": "stream",
     "text": [
      "clicked!\n"
     ]
    }
   ],
   "source": [
    "for img in images:\n",
    "    try:\n",
    "        img\n",
    "        img.click()\n",
    "        \n",
    "        print(\"clicked!\")\n",
    "        break\n",
    "    except:\n",
    "        print(\"can't click\")"
   ]
  },
  {
   "cell_type": "code",
   "execution_count": 313,
   "metadata": {},
   "outputs": [],
   "source": [
    "celebrity_handles=[\"@britneyspears\", \"@arianagrande\", \"@selenagomez\", \"@kimkardashian\", \"@kyliejenner\", \"@taylorswift\", \"@justinbieber\", \"@kendalljenner\", \"@nickiminaj\", \"@khloekardashian\", \"@mileycyrus\",\n",
    " \"@katyperry\", \"@kourtneykardash\", \"@ddlovato\", \"@gigihadid\", \"@iamcardib\", \"@priyankachopra\"]\n",
    "df = pd.DataFrame(celebrity_handles, columns=[\"celebrity_handles\"])"
   ]
  },
  {
   "cell_type": "code",
   "execution_count": 315,
   "metadata": {},
   "outputs": [],
   "source": [
    "df.to_csv(\"celebrity_handles.csv\")"
   ]
  },
  {
   "cell_type": "code",
   "execution_count": null,
   "metadata": {},
   "outputs": [],
   "source": []
  }
 ],
 "metadata": {
  "kernelspec": {
   "display_name": "Python 3",
   "language": "python",
   "name": "python3"
  },
  "language_info": {
   "codemirror_mode": {
    "name": "ipython",
    "version": 3
   },
   "file_extension": ".py",
   "mimetype": "text/x-python",
   "name": "python",
   "nbconvert_exporter": "python",
   "pygments_lexer": "ipython3",
   "version": "3.7.3"
  }
 },
 "nbformat": 4,
 "nbformat_minor": 2
}
